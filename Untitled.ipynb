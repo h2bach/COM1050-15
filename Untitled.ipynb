{
 "cells": [
  {
   "cell_type": "code",
   "execution_count": 14,
   "id": "cac7492a-0060-4cfd-b1d3-6c54935e405e",
   "metadata": {},
   "outputs": [
    {
     "name": "stdout",
     "output_type": "stream",
     "text": [
      "Thành phố: Hà Nội - Năm: 2025\n",
      "Hello\tWorld\t!!!\n"
     ]
    }
   ],
   "source": [
    "# print(*objects, sep=\" \", end=\"\\n\", file=sys.stdout, flush=False)\n",
    "\n",
    "# Bai \n",
    "\n",
    "city = \"Hà Nội\"\n",
    "\n",
    "year = 2025\n",
    "\n",
    "print(\"Thành phố:\", city, \"- Năm:\", year) # sep = separator\n",
    "\n",
    "print(\"Hello\", \"World\", \"!!!\", sep= \"\\t\")"
   ]
  },
  {
   "cell_type": "code",
   "execution_count": 1,
   "id": "68f45265-0b53-4816-9e77-195fc08c9a02",
   "metadata": {},
   "outputs": [
    {
     "name": "stdout",
     "output_type": "stream",
     "text": [
      " Volume in drive F is VOL_U\n",
      " Volume Serial Number is 5466-FEEA\n",
      "\n",
      " Directory of F:\\UET_Teaching\\TDTT_2526\n",
      "\n",
      "09/23/2025  05:21 PM    <DIR>          .\n",
      "09/19/2025  02:21 PM    <DIR>          ..\n",
      "09/19/2025  03:08 PM    <DIR>          .ipynb_checkpoints\n",
      "09/19/2025  02:35 PM            18,550 lec01.ipynb\n",
      "09/19/2025  03:10 PM             3,501 lec1_starter.ipynb\n",
      "09/23/2025  05:21 PM             8,272 Untitled.ipynb\n",
      "               3 File(s)         30,323 bytes\n",
      "               3 Dir(s)  81,475,309,568 bytes free\n"
     ]
    }
   ],
   "source": [
    "! dir"
   ]
  },
  {
   "cell_type": "code",
   "execution_count": 23,
   "id": "b4c768d0-d94d-442e-9977-f512dbd400ea",
   "metadata": {},
   "outputs": [
    {
     "name": "stdin",
     "output_type": "stream",
     "text": [
      " Minh\n"
     ]
    },
    {
     "name": "stdout",
     "output_type": "stream",
     "text": [
      "Hello Minh\n"
     ]
    }
   ],
   "source": [
    "inp = input()\n",
    "\n",
    "print(\"Hello\", inp)"
   ]
  },
  {
   "cell_type": "code",
   "execution_count": 26,
   "id": "29347ab5-28d7-41b0-9bc3-c4ba8dda68f0",
   "metadata": {},
   "outputs": [
    {
     "data": {
      "text/plain": [
       "['1\\t2', '3', '4', '5', '6']"
      ]
     },
     "execution_count": 26,
     "metadata": {},
     "output_type": "execute_result"
    }
   ],
   "source": [
    "abc = \"1\\t2 3 4 5 6\"\n",
    "abc.split(' ')"
   ]
  },
  {
   "cell_type": "code",
   "execution_count": 35,
   "id": "9459db88-7a02-47e2-82c6-64f7fc409cc3",
   "metadata": {},
   "outputs": [
    {
     "name": "stdin",
     "output_type": "stream",
     "text": [
      " 1 3\n"
     ]
    },
    {
     "name": "stdout",
     "output_type": "stream",
     "text": [
      "1 + 3 = 4\n",
      "1 - 3 = -2\n",
      "1 x 3 = 3\n",
      "Chia lấy phần nguyên: 1 / 3 = 0\n",
      "Chia lấy phần dư: 1 / 3 = 1\n",
      "Chia lấy kết quả có 2 số phần thập phân: 1 / 3 = 0.3333333333333333\n"
     ]
    }
   ],
   "source": [
    "a, b = map(int, input().split())\n",
    "\n",
    "sum = a + b\n",
    "print(a, \"+\", b, \"=\",sum)\n",
    "sub = a-b\n",
    "\n",
    "print(a, \"-\", b, \"=\",sub)\n",
    "\n",
    "prod = a*b\n",
    "\n",
    "print(a, \"x\", b, \"=\",prod)\n",
    "\n",
    "div = a/b\n",
    "print(\"Chia lấy phần nguyên:\", a, \"/\", b, \"=\",int(div))\n",
    "\n",
    "mod = a%b\n",
    "print(\"Chia lấy phần dư:\", a, \"/\", b, \"=\",mod)\n",
    "\n",
    "div = a/b\n",
    "print(f\"Chia lấy kết quả có 2 số phần thập phân: {a} / {b} = {div}\")\n"
   ]
  },
  {
   "cell_type": "code",
   "execution_count": 45,
   "id": "57f70e79-7ac9-49f3-913e-4f60ee189556",
   "metadata": {},
   "outputs": [
    {
     "name": "stdin",
     "output_type": "stream",
     "text": [
      " 3 5 6 7 8 9\n"
     ]
    }
   ],
   "source": [
    "a1, b1, c1, a2, b2, a3 = map(float, input().split())"
   ]
  },
  {
   "cell_type": "code",
   "execution_count": 67,
   "id": "eed6c3e5-6254-4887-9098-5b7d7130a397",
   "metadata": {},
   "outputs": [
    {
     "name": "stdin",
     "output_type": "stream",
     "text": [
      " 3 4 5 6 7 8\n"
     ]
    },
    {
     "data": {
      "text/plain": [
       "['3', '4', '5', '6', '7', '8']"
      ]
     },
     "execution_count": 67,
     "metadata": {},
     "output_type": "execute_result"
    }
   ],
   "source": [
    "arr = input().split()\n",
    "arr"
   ]
  },
  {
   "cell_type": "code",
   "execution_count": 69,
   "id": "ae5540f2-e314-4d86-b5c2-649afd20400f",
   "metadata": {},
   "outputs": [
    {
     "name": "stdout",
     "output_type": "stream",
     "text": [
      "3.0\n",
      "6.0\n",
      "8.0\n"
     ]
    }
   ],
   "source": [
    "a1, b1, c1, a2, b2, a3 = map(float, arr)\n",
    "print(a1)\n",
    "print(a2)\n",
    "print(a3)"
   ]
  },
  {
   "cell_type": "code",
   "execution_count": 49,
   "id": "8d26611d-d720-4898-9c5f-2e487693ebaa",
   "metadata": {},
   "outputs": [
    {
     "name": "stdout",
     "output_type": "stream",
     "text": [
      "7.1\n"
     ]
    }
   ],
   "source": [
    "TB = (a1+b1+c1+(a2+b2)*2+a3*3)/10\n",
    "print(f\"{TB:.1f}\")"
   ]
  },
  {
   "cell_type": "code",
   "execution_count": 51,
   "id": "7a3f4506-84af-46ca-a24b-98e030ad01b1",
   "metadata": {},
   "outputs": [
    {
     "data": {
      "text/plain": [
       "25"
      ]
     },
     "execution_count": 51,
     "metadata": {},
     "output_type": "execute_result"
    }
   ],
   "source": [
    "5**2"
   ]
  },
  {
   "cell_type": "code",
   "execution_count": 54,
   "id": "c16828e7-2d6f-4ccc-b75c-134a04474f81",
   "metadata": {},
   "outputs": [
    {
     "name": "stdin",
     "output_type": "stream",
     "text": [
      " e\n"
     ]
    },
    {
     "name": "stdout",
     "output_type": "stream",
     "text": [
      "E\n"
     ]
    }
   ],
   "source": [
    "# ord(): Từ chữ sang vị trí trong bảng mã Unicode\n",
    "# chr(): Từ vị trí trong bảng mã unicode sang chữ\n",
    "# Khoảng cách từ chữ thường sang chữ hoa trong Unicode là 32\n",
    "a = \"d\"\n",
    "A = \"D\"\n",
    "\n",
    "ord(a), ord(A)\n",
    "\n",
    "inp = input()\n",
    "\n",
    "print(chr(ord(inp)-32))"
   ]
  },
  {
   "cell_type": "code",
   "execution_count": 57,
   "id": "d39f11d8-4af3-46c0-a6ce-644c80164ea3",
   "metadata": {},
   "outputs": [
    {
     "data": {
      "text/plain": [
       "(48, 49, 57)"
      ]
     },
     "execution_count": 57,
     "metadata": {},
     "output_type": "execute_result"
    }
   ],
   "source": [
    "ord('0'),ord('1'),ord('9')"
   ]
  },
  {
   "cell_type": "code",
   "execution_count": 60,
   "id": "37bea116-09cc-44da-928d-d92b0574f5c1",
   "metadata": {},
   "outputs": [
    {
     "name": "stdout",
     "output_type": "stream",
     "text": [
      "512 512 4826814\n"
     ]
    }
   ],
   "source": [
    "A = ((13 ** 2) * 3) + 5\n",
    "B = 13 ** 2 * 3 + 5\n",
    "C = 13 ** (2 * 3) + 5\n",
    "print(A,B,C)"
   ]
  },
  {
   "cell_type": "code",
   "execution_count": 65,
   "id": "f17dbe9f-0f74-4b57-96b0-bdae473ac56d",
   "metadata": {},
   "outputs": [
    {
     "name": "stdout",
     "output_type": "stream",
     "text": [
      "1 99\n"
     ]
    }
   ],
   "source": [
    "a = (range(1,100))\n",
    "print(a[0],a[-1])"
   ]
  },
  {
   "cell_type": "code",
   "execution_count": 74,
   "id": "3868a6f5-8805-481e-939c-46b5c774858c",
   "metadata": {},
   "outputs": [
    {
     "name": "stdin",
     "output_type": "stream",
     "text": [
      " 40\n"
     ]
    },
    {
     "name": "stdout",
     "output_type": "stream",
     "text": [
      "104.00\n"
     ]
    }
   ],
   "source": [
    "C = float(input())\n",
    "F = 9/5*C + 32\n",
    "print(f'{F:.2f}')"
   ]
  },
  {
   "cell_type": "code",
   "execution_count": 75,
   "id": "f341e888-4efe-40a1-b971-d6a341ecad7a",
   "metadata": {},
   "outputs": [
    {
     "name": "stdin",
     "output_type": "stream",
     "text": [
      " 100\n"
     ]
    },
    {
     "name": "stdout",
     "output_type": "stream",
     "text": [
      "154.0\n"
     ]
    }
   ],
   "source": [
    "x = float(input())\n",
    "y = 1.4 * (x + 10)\n",
    "\n",
    "print(y)"
   ]
  },
  {
   "cell_type": "code",
   "execution_count": 1,
   "id": "089bb36a-1adb-459c-94a3-9a0e6caf9246",
   "metadata": {},
   "outputs": [
    {
     "name": "stdin",
     "output_type": "stream",
     "text": [
      " 5\n"
     ]
    },
    {
     "name": "stdout",
     "output_type": "stream",
     "text": [
      "10.0\n"
     ]
    }
   ],
   "source": [
    "# HW - Ex1\n",
    "\n",
    "n = float(input())\n",
    "print(2*n)"
   ]
  }
 ],
 "metadata": {
  "kernelspec": {
   "display_name": "Python 3 (ipykernel)",
   "language": "python",
   "name": "python3"
  },
  "language_info": {
   "codemirror_mode": {
    "name": "ipython",
    "version": 3
   },
   "file_extension": ".py",
   "mimetype": "text/x-python",
   "name": "python",
   "nbconvert_exporter": "python",
   "pygments_lexer": "ipython3",
   "version": "3.13.5"
  }
 },
 "nbformat": 4,
 "nbformat_minor": 5
}
