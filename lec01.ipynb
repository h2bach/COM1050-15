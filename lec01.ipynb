{
 "cells": [
  {
   "cell_type": "markdown",
   "metadata": {
    "id": "nAjAFKFQxmQt"
   },
   "source": [
    "# Lecture 01 - Introduction to Computational Thinking - Jupyter Notebook\n",
    "\n",
    "This notebook contains all the Python code examples from the 'Introduction to Computational Thinking' presentation."
   ]
  },
  {
   "cell_type": "markdown",
   "metadata": {
    "id": "Qwa6jSwV6C1o"
   },
   "source": [
    "# A. Illustrative Examples for the Principles of Computational Thinking\n",
    "\n",
    "In this notebook, we will explore specific examples for each principle of Computational Thinking, including:\n",
    "1.  **Decomposition**: Breaking down a large, complex task into smaller, more manageable sub-tasks.\n",
    "2.  **Pattern Recognition**: Finding similarities, rules, or things that repeat\n",
    "3.  **Abstraction**: Focusing on the main, important ideas while ignoring the unnecessary details.\n",
    "4.  **Algorithm Design**: Creating a clear, step-by-step list of instructions to solve a problem."
   ]
  },
  {
   "cell_type": "markdown",
   "metadata": {
    "id": "ulYI2Spd7E60"
   },
   "source": [
    "##1. Decomposition\n",
    "\n",
    "**The Idea:** Breaking down a large, complex task into smaller, more manageable sub-tasks.\n",
    "\n",
    "**Real-world Example:** \"Making a cup of lemon tea.\"\n",
    "\n",
    "Instead of thinking about the entire process at once, let's break it down:\n",
    "\n",
    "1.  **Boil Water:**\n",
    "    * Fill a kettle with water.\n",
    "    * Turn on the stove or plug in the electric kettle.\n",
    "    * Wait for the water to boil.\n",
    "2.  **Brew the Tea:**\n",
    "    * Put a tea bag in a cup.\n",
    "    * Pour the boiling water into the cup.\n",
    "    * Wait 3-5 minutes for the tea to steep.\n",
    "3.  **Add Flavor:**\n",
    "    * Cut a slice of lemon.\n",
    "    * Squeeze the lemon into the cup.\n",
    "    * Add sugar (if desired).\n",
    "4.  **Finish:**\n",
    "    * Stir everything together.\n",
    "    * Enjoy your tea.\n",
    "\n",
    "**Conclusion:** By breaking down the task of \"making lemon tea,\" each step becomes very simple and easy to follow. It's the same in programming, where we break down a large program into smaller functions."
   ]
  },
  {
   "cell_type": "markdown",
   "metadata": {
    "id": "bN2cQ4qh7Nxw"
   },
   "source": [
    "##2. Pattern Recognition\n",
    "\n",
    "**The Idea:** Finding similarities, rules, or things that repeat.\n",
    "\n",
    "**Simple Example:** \"Drawing a fence.\"\n",
    "\n",
    "Imagine you need to draw a fence with 5 sections. The fence looks like this: `|---|---|---|---|---`\n",
    "\n",
    "Do you see the repeating pattern?\n",
    "\n",
    "* The repeating pattern is: **\"draw a post `|` and then draw a rail `---`\"**.\n",
    "\n",
    "This action is repeated 5 times.\n",
    "\n",
    "**Python Code Example:**\n",
    "Instead of writing the code 5 times, we recognize the pattern and use a `for` loop."
   ]
  },
  {
   "cell_type": "code",
   "execution_count": null,
   "metadata": {
    "colab": {
     "base_uri": "https://localhost:8080/"
    },
    "id": "1lmlKShh7SsK",
    "outputId": "fb3f57c1-f9e8-4a9e-f36f-59dafae4c205"
   },
   "outputs": [
    {
     "name": "stdout",
     "output_type": "stream",
     "text": [
      "|---|---|---|---|---\n",
      "|---|---|---|---|---"
     ]
    }
   ],
   "source": [
    "# The long way (without pattern recognition)\n",
    "print(\"|---\", end=\"\")\n",
    "print(\"|---\", end=\"\")\n",
    "print(\"|---\", end=\"\")\n",
    "print(\"|---\", end=\"\")\n",
    "print(\"|---\")\n",
    "\n",
    "# The short way (after recognizing the pattern)\n",
    "for i in range(5):\n",
    "  print(\"|---\", end=\"\")"
   ]
  },
  {
   "cell_type": "markdown",
   "metadata": {
    "id": "wgLPYQHg7dPo"
   },
   "source": [
    "##3. Abstraction\n",
    "\n",
    "**The Idea:** Focusing on the main, important ideas while ignoring the unnecessary details.\n",
    "\n",
    "**Simple Example:** \"Using a microwave.\"\n",
    "\n",
    "When you want to heat up food, you just need to:\n",
    "1.  Put the food inside.\n",
    "2.  Select the \"Reheat\" mode (or set a time).\n",
    "3.  Press the \"Start\" button.\n",
    "\n",
    "You **don't need to know** how the microwave generates electromagnetic waves, how the internal circuits work, or how it converts electricity into heat. All those complex details are \"hidden\" from you. You only need to know its main function: \"heating food.\"\n",
    "\n",
    "**Python Code Example:**\n",
    "In programming, we create functions for abstraction. For example, to add two numbers, we create an `add_numbers` function."
   ]
  },
  {
   "cell_type": "code",
   "execution_count": null,
   "metadata": {
    "colab": {
     "base_uri": "https://localhost:8080/"
    },
    "id": "ze3NcUOi7vyj",
    "outputId": "9707429f-ae42-42b9-aa03-2f580a51a30f"
   },
   "outputs": [
    {
     "name": "stdout",
     "output_type": "stream",
     "text": [
      "The sum is: 15\n"
     ]
    }
   ],
   "source": [
    "# --- The complex details are hidden inside the function ---\n",
    "def add_numbers(a, b):\n",
    "  result = a + b\n",
    "  return result\n",
    "\n",
    "# --- The user only needs to know the main function ---\n",
    "# I don't need to know what `add_numbers` does inside.\n",
    "# I just know it will return the sum of the two numbers I give it.\n",
    "sum_result = add_numbers(5, 10)\n",
    "print(\"The sum is:\", sum_result)"
   ]
  },
  {
   "cell_type": "markdown",
   "metadata": {
    "id": "RwICUV1x70k2"
   },
   "source": [
    "##4. Algorithm Design\n",
    "\n",
    "**The Idea:** Creating a clear, step-by-step list of instructions to solve a problem.\n",
    "\n",
    "**Simple Example:** \"An algorithm for walking from home to school.\"\n",
    "\n",
    "An algorithm isn't something complicated; it's just a detailed plan. Imagine you need to give directions to a friend.\n",
    "\n",
    "**The Algorithm:**\n",
    "1.  **Start** at the front door of the house.\n",
    "2.  **Walk straight** to the end of the street.\n",
    "3.  **Turn right** onto the main road.\n",
    "4.  **Walk straight** for about 500 meters until you reach the first traffic light.\n",
    "5.  At the traffic light, **turn left**.\n",
    "6.  **Continue walking** for 200 meters.\n",
    "7.  The school will be on **your right side**.\n",
    "8.  **End**.\n",
    "\n",
    "This is a good algorithm because it is clear, ordered, and anyone can follow it to achieve the desired result.\n",
    "\n",
    "**Python Code Example:**\n",
    "An algorithm in code is a set of commands arranged in a logical order for the computer to execute."
   ]
  },
  {
   "cell_type": "code",
   "execution_count": null,
   "metadata": {
    "colab": {
     "base_uri": "https://localhost:8080/"
    },
    "id": "da0-M4k976uG",
    "outputId": "a5f3b052-95da-4354-8424-4f229591c5bd"
   },
   "outputs": [
    {
     "name": "stdout",
     "output_type": "stream",
     "text": [
      "Hi, what is your name? Trong\n",
      "How old are you? 18\n",
      "Hello Trong, next year you will be 19 years old!\n"
     ]
    }
   ],
   "source": [
    "# Algorithm: \"Greet the user and tell them their age next year\"\n",
    "\n",
    "# Step 1: Get the user's name\n",
    "user_name = input(\"Hi, what is your name? \")\n",
    "\n",
    "# Step 2: Get their current age\n",
    "current_age_str = input(\"How old are you? \")\n",
    "current_age = int(current_age_str) # Convert the text to a number\n",
    "\n",
    "# Step 3: Calculate their age next year\n",
    "age_next_year = current_age + 1\n",
    "\n",
    "# Step 4: Print the result to the screen\n",
    "print(f\"Hello {user_name}, next year you will be {age_next_year} years old!\")"
   ]
  },
  {
   "cell_type": "markdown",
   "metadata": {
    "id": "3D2FYXos8tut"
   },
   "source": [
    "# B. Illustrative Examples for Python Programming\n"
   ]
  },
  {
   "cell_type": "markdown",
   "metadata": {
    "id": "ehO1ExaMxmQ1"
   },
   "source": [
    "###1. Finding the largest number in a list\n",
    "\n",
    "This code snippet demonstrates a simple algorithm to find the largest number in a given list of numbers. It initializes a variable `max_num` with the first element of the list and then iterates through the rest of the elements, updating `max_num` if a larger numberis found."
   ]
  },
  {
   "cell_type": "code",
   "execution_count": null,
   "metadata": {
    "colab": {
     "base_uri": "https://localhost:8080/"
    },
    "id": "3EzF9xzhxmQ4",
    "outputId": "1b424e9c-8628-4494-c5f6-d2d27bf403fa"
   },
   "outputs": [
    {
     "name": "stdout",
     "output_type": "stream",
     "text": [
      "The largest number is: 20\n"
     ]
    }
   ],
   "source": [
    "numbers = [5, 12, 7, 20, 3]\n",
    "max_num = numbers[0]\n",
    "for n in numbers:\n",
    "  if n > max_num:\n",
    "    max_num = n\n",
    "print(\"The largest number is:\", max_num)"
   ]
  },
  {
   "cell_type": "markdown",
   "metadata": {
    "id": "BFZPmrodxmQ6"
   },
   "source": [
    "### 2. Printing even numbers from 1 to 10\n",
    "This example uses a `for` loop and the modulo operator (`%`) to find and print all the even numbers in the range from 1 to 10. A number is even if it is perfectly divisible by 2, meaning the remainder of the division is 0."
   ]
  },
  {
   "cell_type": "code",
   "execution_count": null,
   "metadata": {
    "colab": {
     "base_uri": "https://localhost:8080/"
    },
    "id": "tWy-g4G_xmQ7",
    "outputId": "c4a00524-f927-4177-aaf0-546830bb712f"
   },
   "outputs": [
    {
     "name": "stdout",
     "output_type": "stream",
     "text": [
      "2\n",
      "4\n",
      "6\n",
      "8\n",
      "10\n"
     ]
    }
   ],
   "source": [
    "for i in range(1, 11):\n",
    "  if i % 2 == 0:\n",
    "    print(i)"
   ]
  },
  {
   "cell_type": "markdown",
   "metadata": {
    "id": "3s0yzEtjxmQ8"
   },
   "source": [
    "### 3. A function to add two numbers\n",
    "This snippet demonstrates the concept of abstraction by defining a simple function `add_numbers` that takes two arguments and returns their sum. The comment highlights that in a real-world scenario, the numbers could come from various sources (user input, database, etc.), but the function abstracts away those details and only cares about the values themselves."
   ]
  },
  {
   "cell_type": "code",
   "execution_count": null,
   "metadata": {
    "colab": {
     "base_uri": "https://localhost:8080/"
    },
    "id": "57z2pmKrxmQ-",
    "outputId": "cde21275-fbab-4909-e557-ef93fd9f44d5"
   },
   "outputs": [
    {
     "name": "stdout",
     "output_type": "stream",
     "text": [
      "Sum: 12\n"
     ]
    }
   ],
   "source": [
    "# Real world: numbers may come from user input, database, sensor, etc.\n",
    "# Abstraction: we only care about the values\n",
    "def add_numbers(a, b):\n",
    "  return a + b\n",
    "\n",
    "result = add_numbers(5, 7)\n",
    "print(\"Sum:\", result)"
   ]
  },
  {
   "cell_type": "markdown",
   "metadata": {
    "id": "D-vmBzthxmQ_"
   },
   "source": [
    "### 4. A function to find the largest number in a list\n",
    "This example refactors the logic from the first example into a reusable function called `find_max`. This is an excellent illustration of algorithm design, where the steps to solve the problem are encapsulated within a function."
   ]
  },
  {
   "cell_type": "code",
   "execution_count": null,
   "metadata": {
    "colab": {
     "base_uri": "https://localhost:8080/"
    },
    "id": "Sy57JcCVxmRA",
    "outputId": "9d2b2760-794b-44d6-ec67-443bcee6e8bc"
   },
   "outputs": [
    {
     "name": "stdout",
     "output_type": "stream",
     "text": [
      "Largest number is: 20\n"
     ]
    }
   ],
   "source": [
    "def find_max(numbers):\n",
    "  max_num = numbers[0]         # Step 1: assume first is largest\n",
    "  for n in numbers:            # Step 2: check each number\n",
    "    if n > max_num:            # Step 3: update if larger found\n",
    "      max_num = n\n",
    "  return max_num               # Step 4: return result\n",
    "\n",
    "nums = [5, 12, 7, 20, 3]\n",
    "print(\"Largest number is:\", find_max(nums))"
   ]
  },
  {
   "cell_type": "markdown",
   "metadata": {
    "id": "YjNzBPfKxmRB"
   },
   "source": [
    "### 5. A simple program demonstrating functions and print statements\n",
    "This snippet is a Python implementation of a simple set of instructions, similar to what one might find in a visual programming environment like Scratch. It defines functions for moving and turning and then calls them to execute a sequence of actions."
   ]
  },
  {
   "cell_type": "code",
   "execution_count": null,
   "metadata": {
    "colab": {
     "base_uri": "https://localhost:8080/"
    },
    "id": "wiw26HRuxmRC",
    "outputId": "6bfe0e83-2b30-4677-84a4-a5eed25c95ff"
   },
   "outputs": [
    {
     "name": "stdout",
     "output_type": "stream",
     "text": [
      "move forward\n",
      "move forward\n",
      "move forward\n",
      "turn_left\n",
      "move forward\n",
      "move forward\n",
      "move forward\n"
     ]
    }
   ],
   "source": [
    "def move_forward():\n",
    "  print('move forward')\n",
    "\n",
    "def turn_left():\n",
    "  print('turn_left')\n",
    "\n",
    "move_forward()\n",
    "move_forward()\n",
    "move_forward()\n",
    "turn_left()\n",
    "move_forward()\n",
    "move_forward()\n",
    "move_forward()"
   ]
  },
  {
   "cell_type": "markdown",
   "metadata": {
    "id": "PBzaX-PDxmRE"
   },
   "source": [
    "### 6. A `for` loop with `range(3)`\n",
    "\n",
    "This example demonstrates a `for` loop that iterates three times. This is a common way to repeat a set of actions a specific number of times. It also includes function definitions for turning right, which was not present in the earlier example."
   ]
  },
  {
   "cell_type": "code",
   "execution_count": null,
   "metadata": {
    "colab": {
     "base_uri": "https://localhost:8080/"
    },
    "id": "5d8GsWE7xmRE",
    "outputId": "3b6a3022-2838-48e5-8c53-3b63a878eca9"
   },
   "outputs": [
    {
     "name": "stdout",
     "output_type": "stream",
     "text": [
      "turn right\n",
      "move forward\n",
      "turn_left\n",
      "move forward\n",
      "turn_left\n",
      "move forward\n",
      "move forward\n",
      "turn_left\n",
      "move forward\n",
      "move forward\n",
      "turn_left\n",
      "move forward\n"
     ]
    }
   ],
   "source": [
    "def move_forward():\n",
    "  print('move forward')\n",
    "\n",
    "def turn_right():\n",
    "  print('turn right')\n",
    "\n",
    "def turn_left():\n",
    "  print('turn_left')\n",
    "\n",
    "\n",
    "turn_right()\n",
    "move_forward()\n",
    "turn_left()\n",
    "\n",
    "for i in range(3):\n",
    "  move_forward()\n",
    "  turn_left()\n",
    "  move_forward()"
   ]
  },
  {
   "cell_type": "markdown",
   "metadata": {
    "id": "qgwmGgEWxmRF"
   },
   "source": [
    "### 7. `for` loop that also prints the loop counter\n",
    "\n",
    "This snippet is a variation of the previous one. Inside the `for` loop, it now also prints the value of the loop counter `i` in each iteration. This is useful for understanding how the `range()` function works."
   ]
  },
  {
   "cell_type": "code",
   "execution_count": null,
   "metadata": {
    "colab": {
     "base_uri": "https://localhost:8080/"
    },
    "id": "uxWKpHQ8xmRF",
    "outputId": "d36b7e61-529b-4122-e309-ab9118bc0612"
   },
   "outputs": [
    {
     "name": "stdout",
     "output_type": "stream",
     "text": [
      "turn right\n",
      "move forward\n",
      "turn_left\n",
      "move forward\n",
      "0\n",
      "turn_left\n",
      "move forward\n",
      "move forward\n",
      "1\n",
      "turn_left\n",
      "move forward\n",
      "move forward\n",
      "2\n",
      "turn_left\n",
      "move forward\n"
     ]
    }
   ],
   "source": [
    "def move_forward():\n",
    "  print('move forward')\n",
    "\n",
    "def turn_right():\n",
    "  print('turn right')\n",
    "\n",
    "def turn_left():\n",
    "  print('turn_left')\n",
    "\n",
    "\n",
    "turn_right()\n",
    "move_forward()\n",
    "turn_left()\n",
    "\n",
    "for i in range(3):\n",
    "  move_forward()\n",
    "  print(i)\n",
    "  turn_left()\n",
    "  move_forward()"
   ]
  },
  {
   "cell_type": "markdown",
   "metadata": {
    "id": "WXQA1hUkxmRG"
   },
   "source": [
    "### 8. Nested `for` loops\n",
    "\n",
    "This example demonstrates nested loops. The outer loop runs twice, and for each iteration of the outer loop, the two inner loops run three times each. This is a common pattern for working with 2D grids or repeating a sequence of actions."
   ]
  },
  {
   "cell_type": "code",
   "execution_count": null,
   "metadata": {
    "colab": {
     "base_uri": "https://localhost:8080/"
    },
    "id": "o3yDg681xmRG",
    "outputId": "31397610-e5da-4457-8b37-e83645a4e393"
   },
   "outputs": [
    {
     "name": "stdout",
     "output_type": "stream",
     "text": [
      "move forward\n",
      "turn_left\n",
      "move forward\n",
      "turn_left\n",
      "move forward\n",
      "turn_left\n",
      "move forward\n",
      "turn right\n",
      "move forward\n",
      "turn right\n",
      "move forward\n",
      "turn right\n",
      "move forward\n",
      "turn_left\n",
      "move forward\n",
      "turn_left\n",
      "move forward\n",
      "turn_left\n",
      "move forward\n",
      "turn right\n",
      "move forward\n",
      "turn right\n",
      "move forward\n",
      "turn right\n"
     ]
    }
   ],
   "source": [
    "for x in range(2):\n",
    "  for j in range(3):\n",
    "    move_forward()\n",
    "    turn_left()\n",
    "\n",
    "  for j in range(3):\n",
    "    move_forward()\n",
    "    turn_right()"
   ]
  }
 ],
 "metadata": {
  "colab": {
   "provenance": []
  },
  "kernelspec": {
   "display_name": "Python 3 (ipykernel)",
   "language": "python",
   "name": "python3"
  },
  "language_info": {
   "codemirror_mode": {
    "name": "ipython",
    "version": 3
   },
   "file_extension": ".py",
   "mimetype": "text/x-python",
   "name": "python",
   "nbconvert_exporter": "python",
   "pygments_lexer": "ipython3",
   "version": "3.13.5"
  }
 },
 "nbformat": 4,
 "nbformat_minor": 4
}
