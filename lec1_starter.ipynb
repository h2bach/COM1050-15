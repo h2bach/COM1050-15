{
 "cells": [
  {
   "cell_type": "code",
   "execution_count": 1,
   "id": "bccb2e30-0898-4cd3-9954-fb4201c586e7",
   "metadata": {},
   "outputs": [
    {
     "name": "stdout",
     "output_type": "stream",
     "text": [
      "2\n"
     ]
    }
   ],
   "source": [
    "# Bai 1\n",
    "a = 7\n",
    "b = 5\n",
    "c = a-b\n",
    "\n",
    "print(c)"
   ]
  },
  {
   "cell_type": "code",
   "execution_count": 4,
   "id": "c11da4d6-6691-45b8-bf4e-8ffe3b1be385",
   "metadata": {},
   "outputs": [],
   "source": [
    "a = 7\n",
    "b = 5"
   ]
  },
  {
   "cell_type": "code",
   "execution_count": 5,
   "id": "e7721e29-39cc-4828-97b7-21c95f7e0442",
   "metadata": {},
   "outputs": [
    {
     "data": {
      "text/plain": [
       "7"
      ]
     },
     "execution_count": 5,
     "metadata": {},
     "output_type": "execute_result"
    }
   ],
   "source": [
    "a"
   ]
  },
  {
   "cell_type": "code",
   "execution_count": 6,
   "id": "2ccd91e6-0044-4674-a8b2-b84264cc8dd7",
   "metadata": {},
   "outputs": [],
   "source": [
    "# Bai 2\n",
    "\n",
    "city = \"Hà Nội\"\n",
    "\n",
    "year = 2025"
   ]
  },
  {
   "cell_type": "code",
   "execution_count": 7,
   "id": "3a289ea2-c245-4b92-8b87-90eafe944af9",
   "metadata": {},
   "outputs": [
    {
     "name": "stdout",
     "output_type": "stream",
     "text": [
      "Thành phố:  Hà Nội - Năm:  2025\n"
     ]
    }
   ],
   "source": [
    "print(\"Thành phố: \", city, \"- Năm: \", year)"
   ]
  },
  {
   "cell_type": "code",
   "execution_count": 9,
   "id": "aa5a52f6-9889-4e0b-b738-6b3c471288be",
   "metadata": {},
   "outputs": [
    {
     "name": "stdout",
     "output_type": "stream",
     "text": [
      "1\n",
      "3\n",
      "6\n",
      "10\n"
     ]
    }
   ],
   "source": [
    "n = 4\n",
    "t = 0\n",
    "\n",
    "# vòng lặp\n",
    "\n",
    "for i in range(1, n+1): # (1,5)\n",
    "    t+=i # t = t+i\n",
    "    \n",
    "    print(t)\n",
    "\n",
    "    # t = 0 + 1\n",
    "    # t = 1 + 2\n",
    "    # t = 3 + 3\n",
    "    # t = 6 + 4"
   ]
  },
  {
   "cell_type": "code",
   "execution_count": 10,
   "id": "ddf91622-f0a8-4d66-8285-8aae07497ae5",
   "metadata": {},
   "outputs": [],
   "source": [
    "numbers = [1,2,3,4]"
   ]
  },
  {
   "cell_type": "code",
   "execution_count": 15,
   "id": "5f61c900-161f-49fd-b521-9bbf4ff7db9d",
   "metadata": {},
   "outputs": [
    {
     "name": "stdout",
     "output_type": "stream",
     "text": [
      "1 là số lẻ\n",
      "2 là số chẵn\n",
      "3 là số lẻ\n",
      "4 là số chẵn\n"
     ]
    }
   ],
   "source": [
    "for x in numbers:\n",
    "    if x%2 == 0:\n",
    "        print(x, \"là số chẵn\")\n",
    "    else:\n",
    "        print(x, \"là số lẻ\")"
   ]
  },
  {
   "cell_type": "code",
   "execution_count": null,
   "id": "9a76bb41-35eb-4f99-ae89-bf2b859217be",
   "metadata": {},
   "outputs": [],
   "source": [
    "# print(*objects, sep=\"\", end=\"\", file=sys.stdout, flush=False)"
   ]
  }
 ],
 "metadata": {
  "kernelspec": {
   "display_name": "Python 3 (ipykernel)",
   "language": "python",
   "name": "python3"
  },
  "language_info": {
   "codemirror_mode": {
    "name": "ipython",
    "version": 3
   },
   "file_extension": ".py",
   "mimetype": "text/x-python",
   "name": "python",
   "nbconvert_exporter": "python",
   "pygments_lexer": "ipython3",
   "version": "3.13.5"
  }
 },
 "nbformat": 4,
 "nbformat_minor": 5
}
